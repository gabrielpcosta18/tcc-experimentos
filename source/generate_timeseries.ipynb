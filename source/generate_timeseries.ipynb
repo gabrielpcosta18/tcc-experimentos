{
 "cells": [
  {
   "cell_type": "code",
   "execution_count": 1,
   "metadata": {},
   "outputs": [],
   "source": [
    "import pandas as pd \n",
    "import numpy as np\n",
    "from datetime import datetime\n",
    "\n",
    "DATASET_PATH = './../dataset/'\n",
    "PREPROCESSED_PATH = './../preprocessed/'\n",
    "\n",
    "#Method for merging data\n",
    "def merge_data(df):\n",
    "    features = pd.read_csv(DATASET_PATH + 'features.csv')\n",
    "    stores_data = pd.read_csv(DATASET_PATH + 'stores.csv')\n",
    "    df = pd.merge(df, features, on=['Store','Date','IsHoliday'],\n",
    "                  how='inner')\n",
    "    df = pd.merge(df, stores_data, on=['Store'],\n",
    "                  how='inner')\n",
    "    return df\n",
    "\n",
    "# Calc difference between two dates and return an integer\n",
    "def diff(start, end):\n",
    "    x = pd.to_datetime(end) - pd.to_datetime(start)\n",
    "    return int(x / np.timedelta64(1, '7D'))"
   ]
  },
  {
   "cell_type": "code",
   "execution_count": null,
   "metadata": {},
   "outputs": [],
   "source": [
    "# Reading Data\n",
    "train = merge_data(pd.read_csv(DATASET_PATH + 'train.csv'))\n",
    "\n",
    "# Generating Date type from string Date\n",
    "train['DateType'] = [datetime.strptime(date, '%Y-%m-%d').date() for date in train['Date'].astype(str).values.tolist()]\n",
    "\n",
    "groupped = train.groupby(by=['Store', 'Dept'])\n",
    "\n",
    "index = pd.date_range(train.DateType.min(), periods=diff(train.DateType.min(), train.DateType.max()), freq='7D')\n",
    "timeSeries = pd.DataFrame(index=index, columns=[])\n",
    "\n",
    "for name, group in groupped:\n",
    "    aux = pd.DataFrame(group[['Weekly_Sales', 'DateType']].copy())\n",
    "    aux.columns = [name, 'DateType']\n",
    "    aux.set_index('DateType', inplace=True)\n",
    "    aux = aux.fillna(0)\n",
    "\n",
    "    timeSeries = timeSeries.join(aux, how='outer')\n",
    "\n",
    "timeSeries.to_csv(PREPROCESSED_PATH + 'timeseries.csv')"
   ]
  },
  {
   "cell_type": "code",
   "execution_count": null,
   "metadata": {},
   "outputs": [],
   "source": []
  }
 ],
 "metadata": {
  "kernelspec": {
   "display_name": "Python 3",
   "language": "python",
   "name": "python3"
  },
  "language_info": {
   "codemirror_mode": {
    "name": "ipython",
    "version": 3
   },
   "file_extension": ".py",
   "mimetype": "text/x-python",
   "name": "python",
   "nbconvert_exporter": "python",
   "pygments_lexer": "ipython3",
   "version": "3.7.0"
  }
 },
 "nbformat": 4,
 "nbformat_minor": 2
}
