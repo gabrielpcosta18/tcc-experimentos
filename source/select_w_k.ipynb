{
 "cells": [
  {
   "cell_type": "code",
   "execution_count": 41,
   "metadata": {},
   "outputs": [],
   "source": [
    "# Main Libraries\n",
    "import pandas as pd \n",
    "import numpy as np\n",
    "from numpy import *\n",
    "\n",
    "#Nice graphing tools\n",
    "import matplotlib\n",
    "import matplotlib.pyplot as plt\n",
    "import matplotlib.cm as cm\n",
    "import seaborn as sns\n",
    "import plotly\n",
    "import plotly.offline as py\n",
    "import plotly.tools as tls\n",
    "import plotly.graph_objs as go\n",
    "import plotly.tools as tls\n",
    "\n",
    "from multiprocessing import Pool\n",
    "from itertools import product\n",
    "import knntsp\n",
    "import warnings\n",
    "import importlib\n",
    "warnings.filterwarnings('ignore')\n",
    "\n",
    "NUM_CORES = 4\n",
    "PREPROCESSED_PATH = './../preprocessed/'"
   ]
  },
  {
   "cell_type": "code",
   "execution_count": 7,
   "metadata": {},
   "outputs": [],
   "source": [
    "# Reading groupped data\n",
    "def read_groupped_data(filename):\n",
    "    timeSeries = pd.read_csv(filename,index_col=['Unnamed: 0'], parse_dates=['Unnamed: 0'])\n",
    "    timeSeries.rename(columns=lambda x: eval(x), inplace=True)\n",
    "    timeSeries.index = pd.to_datetime(timeSeries.index)\n",
    "    return timeSeries"
   ]
  },
  {
   "cell_type": "code",
   "execution_count": 103,
   "metadata": {},
   "outputs": [],
   "source": [
    "# Reading time series data\n",
    "timeSeries = read_groupped_data(PREPROCESSED_PATH + 'timeseries.csv')"
   ]
  },
  {
   "cell_type": "code",
   "execution_count": 104,
   "metadata": {},
   "outputs": [],
   "source": [
    "# Removing time series without data\n",
    "timeSeries = timeSeries.dropna(axis=1)"
   ]
  },
  {
   "cell_type": "code",
   "execution_count": 105,
   "metadata": {},
   "outputs": [],
   "source": [
    "W_TO_TEST = [3,4,5,27]\n",
    "K_TO_TEST = [1,2,3,4,5]\n",
    "RANDOM_STATE = 1\n",
    "TRAIN_SIZE = 0.86\n",
    "FOR_TEST_PREDICTION = 20"
   ]
  },
  {
   "cell_type": "code",
   "execution_count": 106,
   "metadata": {
    "scrolled": false
   },
   "outputs": [],
   "source": [
    "importlib.reload(knntsp)\n",
    "\n",
    "FRAC = 0.01\n",
    "\n",
    "results = []\n",
    "X = timeSeries.T.sample(frac=FRAC, replace=False, random_state=RANDOM_STATE).T.copy().iloc[:-FOR_TEST_PREDICTION]\n",
    "\n",
    "to_run = []\n",
    "for w in W_TO_TEST:\n",
    "    for k in K_TO_TEST:\n",
    "\n",
    "        for column in X.columns:\n",
    "            to_run.append([X, column, w, k, TRAIN_SIZE])\n",
    "            \n",
    "with Pool(NUM_CORES) as pool:\n",
    "    results = pool.starmap(knntsp.predict_with_knn, to_run)"
   ]
  },
  {
   "cell_type": "code",
   "execution_count": 107,
   "metadata": {
    "scrolled": false
   },
   "outputs": [
    {
     "data": {
      "text/html": [
       "<div>\n",
       "<style scoped>\n",
       "    .dataframe tbody tr th:only-of-type {\n",
       "        vertical-align: middle;\n",
       "    }\n",
       "\n",
       "    .dataframe tbody tr th {\n",
       "        vertical-align: top;\n",
       "    }\n",
       "\n",
       "    .dataframe thead th {\n",
       "        text-align: right;\n",
       "    }\n",
       "</style>\n",
       "<table border=\"1\" class=\"dataframe\">\n",
       "  <thead>\n",
       "    <tr style=\"text-align: right;\">\n",
       "      <th></th>\n",
       "      <th>w</th>\n",
       "      <th>k</th>\n",
       "      <th>mean_error</th>\n",
       "    </tr>\n",
       "  </thead>\n",
       "  <tbody>\n",
       "    <tr>\n",
       "      <th>0</th>\n",
       "      <td>5.0</td>\n",
       "      <td>5.0</td>\n",
       "      <td>0.494694</td>\n",
       "    </tr>\n",
       "  </tbody>\n",
       "</table>\n",
       "</div>"
      ],
      "text/plain": [
       "     w    k  mean_error\n",
       "0  5.0  5.0    0.494694"
      ]
     },
     "execution_count": 107,
     "metadata": {},
     "output_type": "execute_result"
    }
   ],
   "source": [
    "SAVE_SIMPLE_W_K_SELECTION = False\n",
    "\n",
    "simple_w_k_result = pd.DataFrame()\n",
    "for result in results:\n",
    "    current_X, current_Y, mean_error, w, k, cluster_label = result\n",
    "    simple_w_k_result = simple_w_k_result.append(pd.Series([w, k, mean_error[0]]), ignore_index=True)\n",
    "\n",
    "simple_w_k_result.columns = ['w','k', 'mean_error']\n",
    "groupped_mean = simple_w_k_result.groupby(['w','k'])['mean_error'].mean()\n",
    "\n",
    "if SAVE_SIMPLE_W_K_SELECTION:\n",
    "    pd.DataFrame([[groupped_mean.idxmin()[0], groupped_mean.idxmin()[1], groupped_mean.loc[groupped_mean.idxmin()]]], columns=['w', 'k', 'mean_error']).to_csv(PREPROCESSED_PATH + 'simple_knntsp_w_k.csv')\n",
    "\n",
    "pd.DataFrame([[groupped_mean.idxmin()[0], groupped_mean.idxmin()[1], groupped_mean.loc[groupped_mean.idxmin()]]], columns=['w', 'k', 'mean_error'])"
   ]
  },
  {
   "cell_type": "code",
   "execution_count": 134,
   "metadata": {},
   "outputs": [],
   "source": [
    "importlib.reload(knntsp)\n",
    "                 \n",
    "cluster_labels = pd.read_csv(PREPROCESSED_PATH + 'normalization_based_cluster_labels.csv', header=-1, index_col=[0])\n",
    "cluster_labels.columns = ['label']\n",
    "cluster_labels.head()\n",
    "\n",
    "CLUSTER_FRAC = 0.2\n",
    "\n",
    "to_run = []\n",
    "clustered_results = []\n",
    "for name, group in cluster_labels.groupby(['label']):    \n",
    "    group_sample = group.sample(frac=CLUSTER_FRAC, replace=False, random_state=RANDOM_STATE).copy()\n",
    "    cluster_X = timeSeries.T.iloc[group_sample.index].T.iloc[:FOR_TEST_PREDICTION]    \n",
    "    for w in W_TO_TEST:\n",
    "        for k in K_TO_TEST:\n",
    "            for column in cluster_X.columns:#[(16,21)]\n",
    "                to_run.append([cluster_X, column, w, k, TRAIN_SIZE, False, name])\n",
    "\n",
    "with Pool(NUM_CORES) as pool:\n",
    "    clustered_results = pool.starmap(knntsp.predict_with_knn, to_run)"
   ]
  },
  {
   "cell_type": "code",
   "execution_count": 135,
   "metadata": {},
   "outputs": [
    {
     "data": {
      "text/plain": [
       "(90, 4)"
      ]
     },
     "execution_count": 135,
     "metadata": {},
     "output_type": "execute_result"
    }
   ],
   "source": [
    "SAVE_CLUSTER_W_K_SELECTION = True\n",
    "\n",
    "cluster_w_k_result = pd.DataFrame()\n",
    "for result in clustered_results:\n",
    "    current_X, current_Y, mean_error, w, k, cluster_label = result\n",
    "    cluster_w_k_result = cluster_w_k_result.append(pd.Series([cluster_label, w, k, mean_error[0]]), ignore_index=True)\n",
    "\n",
    "cluster_w_k_result.columns = ['cluster_label', 'w','k', 'mean_error']\n",
    "cluster_groupped_mean = cluster_w_k_result.groupby(['cluster_label', 'w','k'], as_index=False)['mean_error'].mean()\n",
    "cluster_groupped_mean = cluster_groupped_mean.iloc[cluster_groupped_mean.groupby(['cluster_label'])['mean_error'].idxmin().values]\n",
    "cluster_groupped_mean.sort_values('cluster_label', inplace=True)\n",
    "cluster_groupped_mean.reset_index(drop=True, inplace=True)\n",
    "\n",
    "if SAVE_CLUSTER_W_K_SELECTION:\n",
    "    cluster_groupped_mean.to_csv(PREPROCESSED_PATH + 'cluster_knntsp_w_k.csv')\n",
    "\n",
    "cluster_groupped_mean.shape"
   ]
  },
  {
   "cell_type": "code",
   "execution_count": null,
   "metadata": {},
   "outputs": [],
   "source": []
  }
 ],
 "metadata": {
  "kernelspec": {
   "display_name": "Python 3",
   "language": "python",
   "name": "python3"
  },
  "language_info": {
   "codemirror_mode": {
    "name": "ipython",
    "version": 3
   },
   "file_extension": ".py",
   "mimetype": "text/x-python",
   "name": "python",
   "nbconvert_exporter": "python",
   "pygments_lexer": "ipython3",
   "version": "3.7.0"
  }
 },
 "nbformat": 4,
 "nbformat_minor": 2
}
